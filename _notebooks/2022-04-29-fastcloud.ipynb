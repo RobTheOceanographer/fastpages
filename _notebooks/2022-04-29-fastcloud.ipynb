{
 "cells": [
  {
   "cell_type": "markdown",
   "metadata": {},
   "source": [
    "# FastClouds - my first fastai model\n",
    "> A small project to start my fastai journey.\n",
    "\n",
    "- comments: true\n",
    "- categories: [fastai, jupyter, clouds, meteorology]\n",
    "- image: images/cloud_batch_small.png"
   ]
  },
  {
   "cell_type": "markdown",
   "metadata": {},
   "source": [
    "I am currently a student in the [fast.ai practical deep learnign for coders v5](https://course.fast.ai/) class and after the first week I took [Jeremy's](https://twitter.com/jeremyphoward) advice to just try to complete some small project using the material covered so far in lesson 1.\n",
    "\n",
    "Therefore, I humbly present ***FastClouds***\n",
    "\n",
    "This is not meant to be a serious project and is just for my own learning experience.\n"
   ]
  },
  {
   "cell_type": "markdown",
   "metadata": {},
   "source": [
    "## The Problem\n",
    "On ground observations are a key part to weather forecasting. Most observations are taken by autonomous systems but there are still a few routine observations that are done manually by a human. One of these is cloud type classification.\n",
    "\n",
    "This manual observation is currently done is at major airports around Australia. At these airports one or more highly knowledgeable and accredited aerodrome weather observers is stationed to take manual weather observations on a fixed schedule throughout each day. But, having such specialized observers at all airports all of the time is not cost effective or realistically feasible, especially for remote locations (e.g. uninhabited islands or infrequently used aerodromes). Therefore many of these remote or small areas miss out on observations and perhaps receive lower quality situational awareness and forecasts as a result."
   ]
  },
  {
   "cell_type": "markdown",
   "metadata": {
    "ExecuteTime": {
     "end_time": "2022-04-29T03:18:29.835478Z",
     "start_time": "2022-04-29T03:18:29.820715Z"
    }
   },
   "source": [
    "## The Solution\n",
    "Using deep learning and image classification techniques to classifying cloud types from photographs seemed to me a very plausible solution to this problem. Therefore, after the Fastai course v5 lecture 1 I thought I'd try to do exactly that using a visual learner example Jeremy provided as my starting point.\n",
    "\n",
    "This algorithm uses a resnet and transfer learning as per the original notebook - [is-it-a-bird] -(https://www.kaggle.com/code/jhoward/is-it-a-bird-creating-a-model-from-your-own-data) but it uses three broad categories of clouds instead of just birds vs forests. These classes were chosen as per the work of Luke Howard in \"Essay of the Modifications of Clouds\" (1803).\n",
    "\n",
    "![](../images/cloud_types.png)\n",
    "This is an image from: https://www.weather.gov/jetstream/corefour\n",
    "\n",
    "In order to create a data set duckduckgo was searched for the terms: cirrus clouds, cumulus clouds, stratus clouds. here is an example batch of images used in the training:\n",
    "\n",
    "![](images/cloud_batch_big.png)"
   ]
  },
  {
   "cell_type": "markdown",
   "metadata": {},
   "source": [
    "## The Notebook\n",
    "This notebook is sitting on [Kaggle](https://www.kaggle.com/) as it has a nice (e.g. free...) gpu backend that allows you to run this model should you wish to poke around.\n",
    "\n",
    "**_So, here it is for you to enjoy - https://www.kaggle.com/robtheoceanographer/fastclouds_**\n"
   ]
  },
  {
   "cell_type": "markdown",
   "metadata": {},
   "source": [
    "## Conclusion\n",
    "\n",
    "While this is very basic demo and only about 70% accurate, it shows great potential for automating some of the cloud type observing in remote regions of Australia where there is currnetly limited or no human observer coverage, and therefore this work might benifit from future work.\n",
    "\n",
    "I'd love ideas, feedback, and suggestions should anyone have any.\n",
    "\n",
    "Thanks"
   ]
  },
  {
   "cell_type": "code",
   "execution_count": null,
   "metadata": {},
   "outputs": [],
   "source": []
  }
 ],
 "metadata": {
  "kernelspec": {
   "display_name": "Python 3 (ipykernel)",
   "language": "python",
   "name": "python3"
  },
  "language_info": {
   "codemirror_mode": {
    "name": "ipython",
    "version": 3
   },
   "file_extension": ".py",
   "mimetype": "text/x-python",
   "name": "python",
   "nbconvert_exporter": "python",
   "pygments_lexer": "ipython3",
   "version": "3.10.4"
  },
  "toc": {
   "base_numbering": 1,
   "nav_menu": {},
   "number_sections": true,
   "sideBar": true,
   "skip_h1_title": false,
   "title_cell": "Table of Contents",
   "title_sidebar": "Contents",
   "toc_cell": false,
   "toc_position": {},
   "toc_section_display": true,
   "toc_window_display": false
  },
  "varInspector": {
   "cols": {
    "lenName": 16,
    "lenType": 16,
    "lenVar": 40
   },
   "kernels_config": {
    "python": {
     "delete_cmd_postfix": "",
     "delete_cmd_prefix": "del ",
     "library": "var_list.py",
     "varRefreshCmd": "print(var_dic_list())"
    },
    "r": {
     "delete_cmd_postfix": ") ",
     "delete_cmd_prefix": "rm(",
     "library": "var_list.r",
     "varRefreshCmd": "cat(var_dic_list()) "
    }
   },
   "types_to_exclude": [
    "module",
    "function",
    "builtin_function_or_method",
    "instance",
    "_Feature"
   ],
   "window_display": false
  }
 },
 "nbformat": 4,
 "nbformat_minor": 4
}
