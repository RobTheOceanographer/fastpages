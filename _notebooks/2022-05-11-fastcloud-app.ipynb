{
 "cells": [
  {
   "cell_type": "markdown",
   "metadata": {},
   "source": [
    "# FastCloud - the app\n",
    "> The next step in my fastai journey.\n",
    "\n",
    "- comments: true\n",
    "- categories: [fastai, jupyter, clouds, meteorology]\n",
    "- image: images/fast_clouds_top_losses_small.png\n",
    "- permalink: /:title:output_ext"
   ]
  },
  {
   "cell_type": "markdown",
   "metadata": {},
   "source": [
    "I am currently a student in the [fast.ai practical deep learnign for coders v5](https://course.fast.ai/) class and after the first week I built a cloud type classifier called ***FastClouds*** - which you can read about [here](https://www.robtheoceanographer.com/fastcloud.html)\n",
    "\n",
    "After the second and third lesson I have implemented some of the things [Jeremy](https://twitter.com/jeremyphoward) discussed and worked through and that is what I have to show you in this post."
   ]
  },
  {
   "cell_type": "markdown",
   "metadata": {
    "ExecuteTime": {
     "end_time": "2022-05-12T04:26:44.792282Z",
     "start_time": "2022-05-12T04:26:44.789878Z"
    }
   },
   "source": [
    "## Model Refinement"
   ]
  },
  {
   "cell_type": "markdown",
   "metadata": {},
   "source": [
    "In lesson 2 of [https://course.fast.ai/](https://course.fast.ai/) v5 data cleaning and data augmentation was discussed. Data cleaning turned out to be a big part of making FastClouds perform better as the images i scraped from [duckduckgo](http://.duckduckgo.com) for clouds turned out to be quite messy and unreliably classified... unsurprising really. Once i'd cleaned up my image data set my model went from ~75% accurate to ~81% accurate.\n"
   ]
  },
  {
   "cell_type": "markdown",
   "metadata": {},
   "source": [
    "This is the training with raw data:"
   ]
  },
  {
   "cell_type": "markdown",
   "metadata": {
    "ExecuteTime": {
     "end_time": "2022-05-12T07:03:01.471595Z",
     "start_time": "2022-05-12T07:03:01.461913Z"
    }
   },
   "source": [
    "![](images/fast_clouds_raw_fine_tune.png)"
   ]
  },
  {
   "cell_type": "markdown",
   "metadata": {},
   "source": [
    "This is the training with cleaned up data:"
   ]
  },
  {
   "cell_type": "markdown",
   "metadata": {},
   "source": [
    "![](images/fast_clouds_cleaned_fine_tune.png \"\")"
   ]
  },
  {
   "cell_type": "markdown",
   "metadata": {},
   "source": [
    "Data augmentation using the fastai DataBlock was super simple to implement. I just added the `batch_tfms=aug_transforms()` line to my DataBlock definition and fastai took care of the rest for me. Data augmentation did add a bit of skill to the model - we went from ~81% to ~85% - but i suspect that this is because the input images are already quite varied and so augmentation didn't add that much more information for the model to learn. This is a batch of augmented images and they look very similar to the original images:"
   ]
  },
  {
   "cell_type": "markdown",
   "metadata": {},
   "source": [
    "![](images/fast_clouds_aug_batch.png \"\")"
   ]
  },
  {
   "cell_type": "markdown",
   "metadata": {},
   "source": [
    "### Final performance\n",
    "\n",
    "![](images/fast_clouds_cleaned_and_auged_fine_tune.png \"\")\n",
    "\n",
    "In the end we have a model that is about ~85% accurate using pretty much out of the box fastai methods and using a very small dataset - the final version only used 50 images from each category. As far as I know there is no other model out there that can classify clouds from images with this accuracy.\n",
    "\n",
    "\n",
    "For reference, the notebook used is here: [Kaggle Notebook](https://www.kaggle.com/code/robtheoceanographer/fastclouds) and here [GitHub Repo](https://github.com/RobTheOceanographer/FastClouds)"
   ]
  },
  {
   "cell_type": "markdown",
   "metadata": {},
   "source": [
    "## TROPS"
   ]
  },
  {
   "cell_type": "markdown",
   "metadata": {},
   "source": [
    "Now that we have a model i'd like to be able to make it 'operational' and available for people to use. The Transition to Operations (TROPS) using [huggingface](https://huggingface.co) and [gradio](https://www.gradio.app/) was discussed in lesson 2 and that is what i have used here to deploy the FastCloud model.\n",
    "\n",
    "The app version looks like this:\n",
    "\n",
    "![](images/FastClouds_HF_App.png)\n",
    "\n",
    "\n",
    "and you can go to this URL to play with it.\n",
    "\n",
    "[https://huggingface.co/spaces/robtheoceanographer/FastClouds](https://huggingface.co/spaces/robtheoceanographer/FastClouds)\n",
    "\n",
    "I'd love it is you send me screenshots of the clouds you classify with this. Thanks for reading."
   ]
  },
  {
   "cell_type": "code",
   "execution_count": null,
   "metadata": {},
   "outputs": [],
   "source": []
  }
 ],
 "metadata": {
  "kernelspec": {
   "display_name": "Python 3 (ipykernel)",
   "language": "python",
   "name": "python3"
  },
  "language_info": {
   "codemirror_mode": {
    "name": "ipython",
    "version": 3
   },
   "file_extension": ".py",
   "mimetype": "text/x-python",
   "name": "python",
   "nbconvert_exporter": "python",
   "pygments_lexer": "ipython3",
   "version": "3.10.4"
  },
  "toc": {
   "base_numbering": 1,
   "nav_menu": {},
   "number_sections": true,
   "sideBar": true,
   "skip_h1_title": false,
   "title_cell": "Table of Contents",
   "title_sidebar": "Contents",
   "toc_cell": false,
   "toc_position": {},
   "toc_section_display": true,
   "toc_window_display": false
  },
  "varInspector": {
   "cols": {
    "lenName": 16,
    "lenType": 16,
    "lenVar": 40
   },
   "kernels_config": {
    "python": {
     "delete_cmd_postfix": "",
     "delete_cmd_prefix": "del ",
     "library": "var_list.py",
     "varRefreshCmd": "print(var_dic_list())"
    },
    "r": {
     "delete_cmd_postfix": ") ",
     "delete_cmd_prefix": "rm(",
     "library": "var_list.r",
     "varRefreshCmd": "cat(var_dic_list()) "
    }
   },
   "types_to_exclude": [
    "module",
    "function",
    "builtin_function_or_method",
    "instance",
    "_Feature"
   ],
   "window_display": false
  }
 },
 "nbformat": 4,
 "nbformat_minor": 4
}
