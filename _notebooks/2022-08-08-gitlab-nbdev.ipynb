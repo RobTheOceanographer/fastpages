{
 "cells": [
  {
   "cell_type": "markdown",
   "id": "1d3b057f-b97f-4bb1-8700-ba5e683f213d",
   "metadata": {},
   "source": [
    "# nbdev on gitlab\n",
    "> An exploration of making nbdev v2 work with gitlab.\n",
    "\n",
    "- comments: true\n",
    "- categories: [nbdev,fastai,jupyter,gitlab,github]\n",
    "- image: images/fastai_logo_small.jpg\n",
    "- permalink: /:title:output_ext"
   ]
  },
  {
   "cell_type": "markdown",
   "id": "3dc4e453-9e57-48e1-9461-c4e5196e15e7",
   "metadata": {},
   "source": [
    "[fast.ai](https://www.fast.ai/) recently released version 2 of their popular [nbdev toolkit](https://nbdev.fast.ai/). nbdev is a set of tools that enable you to write, test, document, and distribute software packages and technical articles all in one place - [the jupyter notebook](https://jupyter.org/). Version two, like version one, is designed with integration into the [github.com](github.com) ecosystem therefore making it a little more difficult to use in other similar ecosystems. Where I work we run an internal [gitlab.com](gitlab.com) system and are unable to use the github features of nbdev. So, for the last year or so I have been using a modified nbdev v1 system that i hacked together to work on the gitlab ecosystem and now with the recent update to version 2 I have set out to do the same again. This time i thought i'd share what i did and learnt along the way."
   ]
  },
  {
   "cell_type": "markdown",
   "id": "b8e2fb49-5872-4720-91a7-a1f64dd61bcc",
   "metadata": {},
   "source": [
    "## What"
   ]
  },
  {
   "cell_type": "markdown",
   "id": "1e5ceb11-f178-4f98-93c1-beb6e94502d9",
   "metadata": {},
   "source": [
    "The image below from [nbdev.fast.ai](nbdev.fast.ai) shows the basic layout of the nbdev ecosystem:"
   ]
  },
  {
   "cell_type": "markdown",
   "id": "0841eb62-98df-41ce-9fd4-dc566631698d",
   "metadata": {},
   "source": [
    "![image](images/nbdev_img.png)"
   ]
  },
  {
   "cell_type": "markdown",
   "id": "3ad0a53e-b7e1-40e9-9b25-18ff9f443eca",
   "metadata": {},
   "source": [
    "From this image we can see that the key things that deal with github are the CI for testing and the CD for document build and deploy using quarto on github pages. Luckily for us gitlab has equivelant functionality and so we will be able to replicate most of the nbdev v2 functionality in gitlab.\n",
    "\n",
    "Therefore our todo list is quite short:\n",
    "\n",
    "TODO list:\n",
    "- convert github actions to gitlab ci\n",
    "- party 🎉🥳🎉"
   ]
  },
  {
   "cell_type": "markdown",
   "id": "26019050-bb1d-4449-b0a3-af8de1b19393",
   "metadata": {},
   "source": [
    "## How"
   ]
  },
  {
   "cell_type": "markdown",
   "id": "f7193c8e-51f2-4591-ad28-1b979e2e8e9f",
   "metadata": {},
   "source": [
    "### Docker image"
   ]
  },
  {
   "cell_type": "markdown",
   "id": "e1acd860-f2ca-4b81-afd9-42d6e28dcb28",
   "metadata": {},
   "source": [
    "[gitlab CI/CD](https://docs.gitlab.com/ee/ci/quick_start/index.html) is configured in a similar way to github actions in that there is a config file that lives in your repo to tell the [runner](https://docs.gitlab.com/runner/) what to do and when to do it. The config file detail what os/environment to use to run your code in. In the official nbdev case they use the latest build of [ubuntu](https://ubuntu.com/) and in my case I use a [continuumio/miniconda3 build](https://hub.docker.com/r/continuumio/miniconda3) as my base. nbdev use this image base to install the latest versions of everything on the fly during every actions run but as i have a shared and quite slow runner at work I tend to use a pre-build container with the latest nbdev and quarto already installed and ready to go. "
   ]
  },
  {
   "cell_type": "markdown",
   "id": "e36973b9-2846-4b33-a907-ab1de5462939",
   "metadata": {},
   "source": [
    "\n",
    "_Feel free to use my container yourself if you like: https://hub.docker.com/r/robtheoceanographer/nbdev2_"
   ]
  },
  {
   "cell_type": "markdown",
   "id": "4170f2f9-3e8c-4d73-a226-26ef7aa2d603",
   "metadata": {},
   "source": [
    "### gitlab CI/CD config file"
   ]
  },
  {
   "cell_type": "markdown",
   "id": "8a81c123-542f-4dd5-9b39-c3ab41f1d2c8",
   "metadata": {},
   "source": [
    "Now that we have the basic image ready to use we now need to write our config file. The language used for gitlab ci/cd is `yaml` and my basic set up is shown below:"
   ]
  },
  {
   "cell_type": "markdown",
   "id": "1fa3721b-138e-4ff3-abb2-fe6daa18cdf6",
   "metadata": {},
   "source": [
    "```yaml\n",
    "\n",
    "image: robtheoceanographer/nbdev2:latest\n",
    "\n",
    "# Cache modules in between jobs\n",
    "cache:\n",
    "  key: $CI_COMMIT_REF_SLUG\n",
    "\n",
    "clean:\n",
    "  stage: build\n",
    "  script:\n",
    "    - echo \"Check we are starting with clean git checkout\"\n",
    "    - if [ -n \"$(git status -uno -s)\" ]; then echo \"git status is not clean\"; false; fi\n",
    "    - echo \"Trying to strip out notebooks\"\n",
    "    - nbdev_clean\n",
    "    - echo \"Check that strip out was unnecessary\"\n",
    "    - git status -s # display the status to see which nbs need cleaning up\n",
    "    - if [ -n \"$(git status -uno -s)\" ]; then echo -e \"!!! Detected unstripped out notebooks\\n!!!Remember to run nbdev_install_hooks\"; false; fi\n",
    "\n",
    "test:\n",
    "  stage: test\n",
    "  script:\n",
    "    - echo \"Doing the testing here...\"\n",
    "    - nbdev_install\n",
    "    - nbdev_test\n",
    "\n",
    "pages:\n",
    "  stage: deploy\n",
    "  script:\n",
    "    - pwd\n",
    "    - nbdev_install\n",
    "    - nbdev_docs\n",
    "    - cp -r _docs/ public/\n",
    "    - ls\n",
    "  artifacts:\n",
    "    paths:\n",
    "      - public\n",
    "```"
   ]
  },
  {
   "cell_type": "markdown",
   "id": "e71114e5-e1dd-4844-b008-cae3320f72a7",
   "metadata": {},
   "source": [
    "Now this is a first cut gitlab-ci.yml and there's definately more to do and change here... for example, i haven't set up good caching or sharing of builds and so things get built multiple times... feel free to contribute it you like."
   ]
  },
  {
   "cell_type": "markdown",
   "id": "5c9bd5cc-aff7-48f6-be57-1db94b8f72d7",
   "metadata": {},
   "source": [
    "This config will replicate most of what is being doing in the github actions of nbdev on github."
   ]
  },
  {
   "cell_type": "markdown",
   "id": "c813bfd3-71b0-4dd8-87d0-3b988c3b8fdc",
   "metadata": {},
   "source": [
    "### settings.ini"
   ]
  },
  {
   "cell_type": "markdown",
   "id": "f0182788-9b93-465b-bcea-ed52b6d321bd",
   "metadata": {},
   "source": [
    "Because they nbdev ecosystem is expecting you to push your code to github it has a few pre-filled github things in the `settings.ini` that we need to tweak.\n",
    "The main things to change are the `host` and `git_url` sections."
   ]
  },
  {
   "cell_type": "markdown",
   "id": "2f1cc8b3-540c-4f4d-ae49-dc39d6239134",
   "metadata": {},
   "source": [
    "Here is an example of [my template setting.ini file](https://gitlab.com/robtheoceanographer/nbdev2_template/-/blob/main/settings.ini) for you to see the difference:"
   ]
  },
  {
   "cell_type": "markdown",
   "id": "62c798f4-e7ac-4591-9898-99a25fe2b8b0",
   "metadata": {},
   "source": [
    "```ini\n",
    "[DEFAULT]\n",
    "# All sections below are required unless otherwise specified\n",
    "# see https://github.com/fastai/nbdev/blob/master/settings.ini for original\n",
    "host = gitlab\n",
    "lib_name = nbdev2_template\n",
    "description = a clone of nbdev v2 to gitlab.\n",
    "copyright = this is all thanks to fastai\n",
    "keywords = fastai nbdev\n",
    "user = robtheoceanographer\n",
    "author = Robert Johnson\n",
    "author_email = example@gmail.com\n",
    "repo = nbdev2_template\n",
    "branch = main\n",
    "version = 0.0.1\n",
    "min_python = 3.9\n",
    "audience = Developers\n",
    "language = English\n",
    "custom_sidebar = False\n",
    "license = None\n",
    "status = 2\n",
    "nbs_path = nbs\n",
    "doc_path = _docs\n",
    "recursive = False\n",
    "tst_flags = notest\n",
    "\n",
    "### Inferred From Other Values but tailored for gitlab ###\n",
    "doc_host =  /\n",
    "doc_baseurl = /%(lib_name)s/\n",
    "git_url = https://gitlab.com/%(user)s/%(lib_name)s/tree/%(branch)s/\n",
    "lib_path = %(lib_name)s\n",
    "title = %(lib_name)s\n",
    "\n",
    "### OPTIONAL ### see https://github.com/fastai/nbdev/blob/master/settings.ini for examples\n",
    "\n",
    "# requirements = fastcore pandas\n",
    "# dev_requirements = \n",
    "# console_scripts =\n",
    "\n",
    "```"
   ]
  },
  {
   "cell_type": "markdown",
   "id": "6b9456bd-36e7-4ab4-a5a9-a4bde1af88a7",
   "metadata": {},
   "source": [
    "### Example gitlab repo"
   ]
  },
  {
   "cell_type": "markdown",
   "id": "ac18e1c4-9836-4042-b786-ebbd6da2ceaa",
   "metadata": {},
   "source": [
    "So, to bring all of this together i made an example repo on gitlab.com that you can look at and copy if your find it helpful."
   ]
  },
  {
   "cell_type": "markdown",
   "id": "255ee3eb-be96-4414-bcf7-e926691d6172",
   "metadata": {},
   "source": [
    "This is the repo: https://gitlab.com/robtheoceanographer/nbdev2_template\n",
    "\n",
    "\n",
    "\n",
    "![image](images/nbdev_gitlab.PNG)"
   ]
  },
  {
   "cell_type": "markdown",
   "id": "b2657b8e-3709-443d-8064-720b5b9386f7",
   "metadata": {},
   "source": [
    "---"
   ]
  },
  {
   "cell_type": "markdown",
   "id": "c7cdd85f-bf96-4d03-a9a7-a92d1a4c2474",
   "metadata": {},
   "source": [
    "This is the rendered quarto docs: https://robtheoceanographer.gitlab.io/nbdev2_template/\n",
    "\n",
    "![image](images/quarto_gitlab.PNG)"
   ]
  },
  {
   "cell_type": "markdown",
   "id": "ab9035b7-53e9-4434-a9e1-b5d6fa760539",
   "metadata": {},
   "source": [
    "---"
   ]
  },
  {
   "cell_type": "markdown",
   "id": "03d1a6f6-f79d-427b-9c2c-a9c4a80d4d9c",
   "metadata": {},
   "source": [
    "## Issues"
   ]
  },
  {
   "cell_type": "markdown",
   "id": "4d187095-d28b-47f1-b740-74d34a178ae8",
   "metadata": {},
   "source": [
    "Of course, there are a bunch of things that don't work when we move to gitlab. The two things that spring to mind are:\n",
    "- nbdev_deploy: Deploy docs to GitHub Pages\n",
    "- nbdev_ghp_deploy: Deploy docs in `doc_path` from settings.ini to GitHub Pages\n",
    "\n",
    "\n",
    "I recommend using the official github version and benefiting from all the functionality there rather than rolling your own on gitlab or elsewhere. This whole posit was just to show that it can be done. Well, that is my brain dump of what i've done so far and i'm sure i haven't covered everything so feel free to reach out and ask me questions if you like:  https://twitter.com/JohnsonRob"
   ]
  },
  {
   "cell_type": "code",
   "execution_count": null,
   "id": "d0e5eab1-0055-427e-a9c1-76222e2a3ee3",
   "metadata": {},
   "outputs": [],
   "source": []
  }
 ],
 "metadata": {
  "kernelspec": {
   "display_name": "Python 3 (ipykernel)",
   "language": "python",
   "name": "python3"
  }
 },
 "nbformat": 4,
 "nbformat_minor": 5
}
